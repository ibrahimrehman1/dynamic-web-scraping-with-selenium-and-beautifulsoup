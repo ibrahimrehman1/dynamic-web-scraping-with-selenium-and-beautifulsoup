{
 "cells": [
  {
   "cell_type": "code",
   "execution_count": null,
   "metadata": {},
   "outputs": [],
   "source": [
    "%pip install selenium\n",
    "%pip install bs4"
   ]
  },
  {
   "cell_type": "code",
   "execution_count": 27,
   "metadata": {},
   "outputs": [
    {
     "name": "stderr",
     "output_type": "stream",
     "text": [
      "C:\\Users\\OK COMPUTER\\AppData\\Local\\Temp\\ipykernel_9836\\2060492457.py:16: DeprecationWarning: executable_path has been deprecated, please pass in a Service object\n",
      "  driver = webdriver.Chrome(executable_path=\"D:\\\\chromedriver\", options=options)\n"
     ]
    },
    {
     "ename": "AttributeError",
     "evalue": "'tuple' object has no attribute 'is_selected'",
     "output_type": "error",
     "traceback": [
      "\u001b[1;31m---------------------------------------------------------------------------\u001b[0m",
      "\u001b[1;31mAttributeError\u001b[0m                            Traceback (most recent call last)",
      "\u001b[1;32me:\\Dynamic Web Scraping with Selenium and Beautiful Soup\\Web Scraper.ipynb Cell 2'\u001b[0m in \u001b[0;36m<cell line: 18>\u001b[1;34m()\u001b[0m\n\u001b[0;32m     <a href='vscode-notebook-cell:/e%3A/Dynamic%20Web%20Scraping%20with%20Selenium%20and%20Beautiful%20Soup/Web%20Scraper.ipynb#ch0000001?line=15'>16</a>\u001b[0m driver \u001b[39m=\u001b[39m webdriver\u001b[39m.\u001b[39mChrome(executable_path\u001b[39m=\u001b[39m\u001b[39m\"\u001b[39m\u001b[39mD:\u001b[39m\u001b[39m\\\\\u001b[39;00m\u001b[39mchromedriver\u001b[39m\u001b[39m\"\u001b[39m, options\u001b[39m=\u001b[39moptions)\n\u001b[0;32m     <a href='vscode-notebook-cell:/e%3A/Dynamic%20Web%20Scraping%20with%20Selenium%20and%20Beautiful%20Soup/Web%20Scraper.ipynb#ch0000001?line=16'>17</a>\u001b[0m driver\u001b[39m.\u001b[39mget(URL)\n\u001b[1;32m---> <a href='vscode-notebook-cell:/e%3A/Dynamic%20Web%20Scraping%20with%20Selenium%20and%20Beautiful%20Soup/Web%20Scraper.ipynb#ch0000001?line=17'>18</a>\u001b[0m ele \u001b[39m=\u001b[39m WebDriverWait(driver, \u001b[39m10\u001b[39;49m)\u001b[39m.\u001b[39;49muntil(EC\u001b[39m.\u001b[39;49melement_to_be_selected((By\u001b[39m.\u001b[39;49mID, \u001b[39m\"\u001b[39;49m\u001b[39msearchInput\u001b[39;49m\u001b[39m\"\u001b[39;49m)))\n\u001b[0;32m     <a href='vscode-notebook-cell:/e%3A/Dynamic%20Web%20Scraping%20with%20Selenium%20and%20Beautiful%20Soup/Web%20Scraper.ipynb#ch0000001?line=18'>19</a>\u001b[0m ele\u001b[39m.\u001b[39msend_keys(\u001b[39m\"\u001b[39m\u001b[39mIbrahim\u001b[39m\u001b[39m\"\u001b[39m)\n\u001b[0;32m     <a href='vscode-notebook-cell:/e%3A/Dynamic%20Web%20Scraping%20with%20Selenium%20and%20Beautiful%20Soup/Web%20Scraper.ipynb#ch0000001?line=19'>20</a>\u001b[0m ele\u001b[39m.\u001b[39msend_keys(Keys\u001b[39m.\u001b[39mRETURN)\n",
      "File \u001b[1;32m~\\AppData\\Local\\Programs\\Python\\Python39\\lib\\site-packages\\selenium\\webdriver\\support\\wait.py:78\u001b[0m, in \u001b[0;36mWebDriverWait.until\u001b[1;34m(self, method, message)\u001b[0m\n\u001b[0;32m     <a href='file:///c%3A/Users/OK%20COMPUTER/AppData/Local/Programs/Python/Python39/lib/site-packages/selenium/webdriver/support/wait.py?line=75'>76</a>\u001b[0m \u001b[39mwhile\u001b[39;00m \u001b[39mTrue\u001b[39;00m:\n\u001b[0;32m     <a href='file:///c%3A/Users/OK%20COMPUTER/AppData/Local/Programs/Python/Python39/lib/site-packages/selenium/webdriver/support/wait.py?line=76'>77</a>\u001b[0m     \u001b[39mtry\u001b[39;00m:\n\u001b[1;32m---> <a href='file:///c%3A/Users/OK%20COMPUTER/AppData/Local/Programs/Python/Python39/lib/site-packages/selenium/webdriver/support/wait.py?line=77'>78</a>\u001b[0m         value \u001b[39m=\u001b[39m method(\u001b[39mself\u001b[39;49m\u001b[39m.\u001b[39;49m_driver)\n\u001b[0;32m     <a href='file:///c%3A/Users/OK%20COMPUTER/AppData/Local/Programs/Python/Python39/lib/site-packages/selenium/webdriver/support/wait.py?line=78'>79</a>\u001b[0m         \u001b[39mif\u001b[39;00m value:\n\u001b[0;32m     <a href='file:///c%3A/Users/OK%20COMPUTER/AppData/Local/Programs/Python/Python39/lib/site-packages/selenium/webdriver/support/wait.py?line=79'>80</a>\u001b[0m             \u001b[39mreturn\u001b[39;00m value\n",
      "File \u001b[1;32m~\\AppData\\Local\\Programs\\Python\\Python39\\lib\\site-packages\\selenium\\webdriver\\support\\expected_conditions.py:361\u001b[0m, in \u001b[0;36melement_to_be_selected.<locals>._predicate\u001b[1;34m(_)\u001b[0m\n\u001b[0;32m    <a href='file:///c%3A/Users/OK%20COMPUTER/AppData/Local/Programs/Python/Python39/lib/site-packages/selenium/webdriver/support/expected_conditions.py?line=359'>360</a>\u001b[0m \u001b[39mdef\u001b[39;00m \u001b[39m_predicate\u001b[39m(_):\n\u001b[1;32m--> <a href='file:///c%3A/Users/OK%20COMPUTER/AppData/Local/Programs/Python/Python39/lib/site-packages/selenium/webdriver/support/expected_conditions.py?line=360'>361</a>\u001b[0m     \u001b[39mreturn\u001b[39;00m element\u001b[39m.\u001b[39;49mis_selected()\n",
      "\u001b[1;31mAttributeError\u001b[0m: 'tuple' object has no attribute 'is_selected'"
     ]
    }
   ],
   "source": [
    "from selenium import webdriver\n",
    "import time\n",
    "from selenium.webdriver.common.keys import Keys\n",
    "from selenium.webdriver.support.ui import WebDriverWait\n",
    "from selenium.webdriver.support import expected_conditions as EC\n",
    "from selenium.webdriver.common.by import By\n",
    "\n",
    "URL = \"http://www.wikipedia.org/\"\n",
    "\n",
    "options = webdriver.ChromeOptions()\n",
    "# options.add_argument(\"--ignore-certificate-errors\")\n",
    "# options.add_argument(\"--incognito\")\n",
    "# options.add_argument(\"--headless\")\n",
    "\n",
    "\n",
    "driver = webdriver.Chrome(executable_path=\"D:\\\\chromedriver\", options=options)\n",
    "driver.get(URL)\n",
    "ele = WebDriverWait(driver, 10).until(EC.element_to_be_clickable((By.ID, \"searchInput\")))\n",
    "ele.send_keys(\"Ibrahim\")\n",
    "ele.send_keys(Keys.RETURN)\n",
    "time.sleep(5)\n",
    "driver.quit()\n"
   ]
  },
  {
   "cell_type": "code",
   "execution_count": null,
   "metadata": {},
   "outputs": [],
   "source": []
  }
 ],
 "metadata": {
  "interpreter": {
   "hash": "9944e8c1532b517148f83aa918c800bb59db73773167f3371cd344c3140d0461"
  },
  "kernelspec": {
   "display_name": "Python 3.9.7 64-bit",
   "language": "python",
   "name": "python3"
  },
  "language_info": {
   "codemirror_mode": {
    "name": "ipython",
    "version": 3
   },
   "file_extension": ".py",
   "mimetype": "text/x-python",
   "name": "python",
   "nbconvert_exporter": "python",
   "pygments_lexer": "ipython3",
   "version": "3.9.7"
  },
  "orig_nbformat": 4
 },
 "nbformat": 4,
 "nbformat_minor": 2
}
