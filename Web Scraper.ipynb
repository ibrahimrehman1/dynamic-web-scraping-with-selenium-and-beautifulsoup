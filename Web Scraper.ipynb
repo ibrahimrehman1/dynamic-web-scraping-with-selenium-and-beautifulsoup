{
 "cells": [
  {
   "cell_type": "code",
   "execution_count": null,
   "metadata": {},
   "outputs": [],
   "source": [
    "%pip install selenium\n",
    "%pip install bs4"
   ]
  },
  {
   "cell_type": "code",
   "execution_count": null,
   "metadata": {},
   "outputs": [],
   "source": [
    "from selenium import webdriver\n",
    "import time\n",
    "from selenium.webdriver.common.keys import Keys\n",
    "from selenium.webdriver.support.ui import WebDriverWait\n",
    "from selenium.webdriver.support import expected_conditions as EC\n",
    "from selenium.webdriver.common.by import By\n",
    "\n",
    "URL = \"http://www.wikipedia.org/\"\n",
    "\n",
    "options = webdriver.ChromeOptions()\n",
    "# options.add_argument(\"--ignore-certificate-errors\")\n",
    "# options.add_argument(\"--incognito\")\n",
    "# options.add_argument(\"--headless\")\n",
    "\n",
    "\n",
    "driver = webdriver.Chrome(executable_path=\"D:\\\\chromedriver\", options=options)\n",
    "driver.get(URL)\n",
    "\n",
    "# ele = WebDriverWait(driver, 10).until(EC.element_to_be_clickable((By.ID, \"searchInput\")))\n",
    "# ele.send_keys(\"Ibrahim\")\n",
    "# ele.send_keys(Keys.RETURN)\n",
    "\n",
    "\n",
    "all_options = WebDriverWait(driver, 10).until(EC.element_to_be_clickable((By.ID, \"searchLanguage\")))\n",
    "select_element = driver.find_element_by_id(\"searchLanguage\")\n",
    "all_options = select_element.find_elements_by_tag_name(\"option\")\n",
    "print(all_options)\n",
    "for option in all_options:\n",
    "    optionText = option.get_attribute(\"value\")\n",
    "    if (optionText == \"af\"):\n",
    "        option.click()\n",
    "time.sleep(5)\n",
    "driver.quit()\n"
   ]
  }
 ],
 "metadata": {
  "interpreter": {
   "hash": "9944e8c1532b517148f83aa918c800bb59db73773167f3371cd344c3140d0461"
  },
  "kernelspec": {
   "display_name": "Python 3.9.7 64-bit",
   "language": "python",
   "name": "python3"
  },
  "language_info": {
   "codemirror_mode": {
    "name": "ipython",
    "version": 3
   },
   "file_extension": ".py",
   "mimetype": "text/x-python",
   "name": "python",
   "nbconvert_exporter": "python",
   "pygments_lexer": "ipython3",
   "version": "3.9.7"
  },
  "orig_nbformat": 4
 },
 "nbformat": 4,
 "nbformat_minor": 2
}
