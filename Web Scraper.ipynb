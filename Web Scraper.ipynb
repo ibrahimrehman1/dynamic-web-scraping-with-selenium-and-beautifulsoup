{
 "cells": [
  {
   "cell_type": "code",
   "execution_count": null,
   "metadata": {},
   "outputs": [],
   "source": [
    "%pip install selenium\n",
    "%pip install bs4"
   ]
  },
  {
   "cell_type": "code",
   "execution_count": null,
   "metadata": {},
   "outputs": [],
   "source": [
    "from selenium import webdriver\n",
    "import time\n",
    "\n",
    "URL = \"http://www.wikipedia.org\"\n",
    "driver = webdriver.Chrome(executable_path=\"D:\\\\chromedriver\")\n",
    "\n",
    "driver.get(URL)\n",
    "time.sleep(5)\n",
    "driver.quit()\n"
   ]
  }
 ],
 "metadata": {
  "interpreter": {
   "hash": "9944e8c1532b517148f83aa918c800bb59db73773167f3371cd344c3140d0461"
  },
  "kernelspec": {
   "display_name": "Python 3.9.7 64-bit",
   "language": "python",
   "name": "python3"
  },
  "language_info": {
   "codemirror_mode": {
    "name": "ipython",
    "version": 3
   },
   "file_extension": ".py",
   "mimetype": "text/x-python",
   "name": "python",
   "nbconvert_exporter": "python",
   "pygments_lexer": "ipython3",
   "version": "3.9.7"
  },
  "orig_nbformat": 4
 },
 "nbformat": 4,
 "nbformat_minor": 2
}
